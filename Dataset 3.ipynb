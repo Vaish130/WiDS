{
 "cells": [
  {
   "cell_type": "code",
   "execution_count": 1,
   "id": "1821a526",
   "metadata": {},
   "outputs": [],
   "source": [
    "import numpy as np\n",
    "import pandas as pd\n",
    "import matplotlib.pyplot as plt\n",
    "from sklearn.linear_model import LinearRegression\n",
    "from sklearn.impute import SimpleImputer"
   ]
  },
  {
   "cell_type": "markdown",
   "id": "32c012d8",
   "metadata": {},
   "source": [
    "Defining train and test"
   ]
  },
  {
   "cell_type": "code",
   "execution_count": 3,
   "id": "8f8ede4b",
   "metadata": {},
   "outputs": [],
   "source": [
    "train = pd.read_csv('C:\\\\Users\\\\Admin\\\\Downloads\\\\train.csv')\n",
    "test = pd.read_csv('C:\\\\Users\\\\Admin\\\\Downloads\\\\test.csv')"
   ]
  },
  {
   "cell_type": "code",
   "execution_count": 4,
   "id": "92c0fc18",
   "metadata": {},
   "outputs": [
    {
     "name": "stdout",
     "output_type": "stream",
     "text": [
      "<class 'pandas.core.frame.DataFrame'>\n",
      "RangeIndex: 700 entries, 0 to 699\n",
      "Data columns (total 2 columns):\n",
      " #   Column  Non-Null Count  Dtype  \n",
      "---  ------  --------------  -----  \n",
      " 0   x       700 non-null    float64\n",
      " 1   y       699 non-null    float64\n",
      "dtypes: float64(2)\n",
      "memory usage: 11.1 KB\n"
     ]
    }
   ],
   "source": [
    "train.info()"
   ]
  },
  {
   "cell_type": "code",
   "execution_count": 5,
   "id": "3c4e0261",
   "metadata": {},
   "outputs": [
    {
     "name": "stdout",
     "output_type": "stream",
     "text": [
      "<class 'pandas.core.frame.DataFrame'>\n",
      "RangeIndex: 300 entries, 0 to 299\n",
      "Data columns (total 2 columns):\n",
      " #   Column  Non-Null Count  Dtype  \n",
      "---  ------  --------------  -----  \n",
      " 0   x       300 non-null    int64  \n",
      " 1   y       300 non-null    float64\n",
      "dtypes: float64(1), int64(1)\n",
      "memory usage: 4.8 KB\n"
     ]
    }
   ],
   "source": [
    "test.info()"
   ]
  },
  {
   "cell_type": "markdown",
   "id": "ea0b47f2",
   "metadata": {},
   "source": [
    "Removing null values"
   ]
  },
  {
   "cell_type": "code",
   "execution_count": 6,
   "id": "3d3804cd",
   "metadata": {},
   "outputs": [],
   "source": [
    "imputer = SimpleImputer(missing_values=np.nan,strategy=\"mean\")\n",
    "imputer.fit(train)\n",
    "train = pd.DataFrame(imputer.transform(train),columns=('x','y'))"
   ]
  },
  {
   "cell_type": "code",
   "execution_count": 12,
   "id": "8fdf135f",
   "metadata": {},
   "outputs": [],
   "source": [
    "X_train = train.iloc[:,0:1].values\n",
    "y_train = train.iloc[:,-1].values\n",
    "X_test = test.iloc[:,0:1].values\n",
    "y_test = test.iloc[:,-1].values"
   ]
  },
  {
   "cell_type": "markdown",
   "id": "8e679099",
   "metadata": {},
   "source": [
    "Generate regressor and fit the data"
   ]
  },
  {
   "cell_type": "code",
   "execution_count": 13,
   "id": "4c47e087",
   "metadata": {},
   "outputs": [
    {
     "data": {
      "text/plain": [
       "LinearRegression()"
      ]
     },
     "execution_count": 13,
     "metadata": {},
     "output_type": "execute_result"
    }
   ],
   "source": [
    "regressor = LinearRegression()\n",
    "regressor.fit(X_train,y_train)"
   ]
  },
  {
   "cell_type": "markdown",
   "id": "6a41d2f8",
   "metadata": {},
   "source": [
    "Plotting the training data"
   ]
  },
  {
   "cell_type": "code",
   "execution_count": 17,
   "id": "fb279dbb",
   "metadata": {},
   "outputs": [
    {
     "data": {
      "image/png": "[encoded data removed]",
      "text/plain": [
       "<Figure size 432x288 with 1 Axes>"
      ]
     },
     "metadata": {
      "needs_background": "light"
     },
     "output_type": "display_data"
    }
   ],
   "source": [
    "fig, ax = plt.subplots()\n",
    "ax.plot(X_train, y_train)\n",
    "plt.xlabel(\"x\")\n",
    "plt.ylabel(\"y\")\n",
    "plt.title(\"y vs x\")\n",
    "plt.show()"
   ]
  },
  {
   "cell_type": "markdown",
   "id": "9848e884",
   "metadata": {},
   "source": [
    "Plotting the testing data"
   ]
  },
  {
   "cell_type": "code",
   "execution_count": 18,
   "id": "51946830",
   "metadata": {},
   "outputs": [
    {
     "data": {
      "image/png": "[encoded data removed]",
      "text/plain": [
       "<Figure size 432x288 with 1 Axes>"
      ]
     },
     "metadata": {
      "needs_background": "light"
     },
     "output_type": "display_data"
    }
   ],
   "source": [
    "fig, ax = plt.subplots()\n",
    "ax.plot(X_test, y_test)\n",
    "plt.xlabel(\"x\")\n",
    "plt.ylabel(\"y\")\n",
    "plt.title(\"y vs x\")\n",
    "plt.show()"
   ]
  },
  {
   "cell_type": "markdown",
   "id": "44845a74",
   "metadata": {},
   "source": [
    "Doing this, you will get some unexpected graphics!\n",
    "Because there is a value too high and must be deleted"
   ]
  },
  {
   "cell_type": "code",
   "execution_count": 21,
   "id": "823ec3d3",
   "metadata": {},
   "outputs": [
    {
     "name": "stdout",
     "output_type": "stream",
     "text": [
      "Index of the maximum value is : 213\n"
     ]
    }
   ],
   "source": [
    "# Hint: Run a loop to find the index of max vlaue\n",
    "max = X_train[0]\n",
    "for i in range(1,len(X_train)):\n",
    "    if X_train[i] > max:\n",
    "        max = X_train[i]\n",
    "        index = i\n",
    "print(f'Index of the maximum value is : {index}')"
   ]
  },
  {
   "cell_type": "markdown",
   "id": "cdf72719",
   "metadata": {},
   "source": [
    "Now we should delete the index of max value to make data more fit"
   ]
  },
  {
   "cell_type": "code",
   "execution_count": 22,
   "id": "af2a0d0c",
   "metadata": {},
   "outputs": [
    {
     "data": {
      "text/plain": [
       "LinearRegression()"
      ]
     },
     "execution_count": 22,
     "metadata": {},
     "output_type": "execute_result"
    }
   ],
   "source": [
    "train.drop(index,axis=0,inplace=True) # fill the index\n",
    "X_train = train.iloc[:,0:1].values\n",
    "y_train = train.iloc[:,-1].values\n",
    "regressor = LinearRegression()\n",
    "regressor.fit(X_train,y_train)"
   ]
  },
  {
   "cell_type": "markdown",
   "id": "c4861b98",
   "metadata": {},
   "source": [
    "Again,Plotting the training data"
   ]
  },
  {
   "cell_type": "code",
   "execution_count": 30,
   "id": "ab7af5ea",
   "metadata": {},
   "outputs": [
    {
     "data": {
      "image/png": "[encoded data removed]",
      "text/plain": [
       "<Figure size 432x288 with 1 Axes>"
      ]
     },
     "metadata": {
      "needs_background": "light"
     },
     "output_type": "display_data"
    }
   ],
   "source": [
    "fig, ax = plt.subplots()\n",
    "ax.plot(X_train, y_train)\n",
    "plt.xlabel(\"x\")\n",
    "plt.ylabel(\"y\")\n",
    "plt.title(\"y vs x\")\n",
    "plt.show()"
   ]
  },
  {
   "cell_type": "markdown",
   "id": "d6d9c891",
   "metadata": {},
   "source": [
    "Again,Plotting the testing data"
   ]
  },
  {
   "cell_type": "code",
   "execution_count": 31,
   "id": "379909cf",
   "metadata": {},
   "outputs": [
    {
     "data": {
      "image/png": "[encoded data removed]",
      "text/plain": [
       "<Figure size 432x288 with 1 Axes>"
      ]
     },
     "metadata": {
      "needs_background": "light"
     },
     "output_type": "display_data"
    }
   ],
   "source": [
    "fig, ax = plt.subplots()\n",
    "ax.plot(X_test, y_test)\n",
    "plt.xlabel(\"x\")\n",
    "plt.ylabel(\"y\")\n",
    "plt.title(\"y vs x\")\n",
    "plt.show()"
   ]
  },
  {
   "cell_type": "code",
   "execution_count": null,
   "id": "1e4a952e",
   "metadata": {},
   "outputs": [],
   "source": []
  }
 ],
 "metadata": {
  "kernelspec": {
   "display_name": "Python 3 (ipykernel)",
   "language": "python",
   "name": "python3"
  },
  "language_info": {
   "codemirror_mode": {
    "name": "ipython",
    "version": 3
   },
   "file_extension": ".py",
   "mimetype": "text/x-python",
   "name": "python",
   "nbconvert_exporter": "python",
   "pygments_lexer": "ipython3",
   "version": "3.9.12"
  }
 },
 "nbformat": 4,
 "nbformat_minor": 5
}
